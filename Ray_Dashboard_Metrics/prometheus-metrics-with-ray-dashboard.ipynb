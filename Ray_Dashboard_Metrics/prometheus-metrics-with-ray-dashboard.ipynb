{
 "cells": [
  {
   "cell_type": "markdown",
   "metadata": {
    "application/vnd.databricks.v1+cell": {
     "cellMetadata": {},
     "inputWidgets": {},
     "nuid": "59871b66-a296-412e-93d3-ca2626ca5fb7",
     "showTitle": false,
     "tableResultSettingsMap": {},
     "title": ""
    }
   },
   "source": [
    "# Ray Dashboard w/ enabled Prometheus + Grafana Metrics \n",
    "This approach initializes the Ray on Spark dashboard interactively (from a notebook/Python script), then runs a bash script (`setup_monitoring.sh` in same directory) to enable extra Prometheus+Grafana metrics.\n",
    "\n",
    "This code was tested on a cluster with the following config:\n",
    "```\n",
    "        \"cluster_name\": \"ray_multinode_no_init\",\n",
    "        \"spark_version\": \"15.4.x-scala2.12\",\n",
    "        \"spark_conf\": {\n",
    "            \"spark.databricks.pyspark.dataFrameChunk.enabled\": \"true\"\n",
    "        },\n",
    "        \"single_user_name\": \"...@databricks.com\",\n",
    "        \"data_security_mode\": \"DATA_SECURITY_MODE_AUTO\",\n",
    "        \"runtime_engine\": \"STANDARD\",\n",
    "        \"kind\": \"CLASSIC_PREVIEW\",\n",
    "        \"use_ml_runtime\": true,\n",
    "        \"is_single_node\": false,\n",
    "        \"num_workers\": 6\n",
    "```"
   ]
  },
  {
   "cell_type": "markdown",
   "metadata": {
    "application/vnd.databricks.v1+cell": {
     "cellMetadata": {},
     "inputWidgets": {},
     "nuid": "32e04790-5d0a-40ae-ad52-440a2e89804b",
     "showTitle": false,
     "tableResultSettingsMap": {},
     "title": ""
    }
   },
   "source": [
    "## Step 1: Install and Setup Ray cluster"
   ]
  },
  {
   "cell_type": "code",
   "execution_count": 0,
   "metadata": {
    "application/vnd.databricks.v1+cell": {
     "cellMetadata": {
      "byteLimit": 2048000,
      "rowLimit": 10000
     },
     "inputWidgets": {},
     "nuid": "49fcb523-3a1b-432d-8a3a-3374e576f536",
     "showTitle": false,
     "tableResultSettingsMap": {},
     "title": ""
    }
   },
   "outputs": [
    {
     "output_type": "stream",
     "name": "stdout",
     "output_type": "stream",
     "text": [
      "Requirement already satisfied: ray[default] in /databricks/python3/lib/python3.11/site-packages (2.37.0)\nCollecting ray[default]\n  Obtaining dependency information for ray[default] from https://files.pythonhosted.org/packages/c1/2b/f2efd0e7bcef06d51422db1af48cc5695a3f9b40a444f9d270a2d4663252/ray-2.49.2-cp311-cp311-manylinux2014_x86_64.whl.metadata\n  Downloading ray-2.49.2-cp311-cp311-manylinux2014_x86_64.whl.metadata (21 kB)\nRequirement already satisfied: click>=7.0 in /databricks/python3/lib/python3.11/site-packages (from ray[default]) (8.0.4)\nRequirement already satisfied: filelock in /databricks/python3/lib/python3.11/site-packages (from ray[default]) (3.13.4)\nRequirement already satisfied: jsonschema in /databricks/python3/lib/python3.11/site-packages (from ray[default]) (4.17.3)\nRequirement already satisfied: msgpack<2.0.0,>=1.0.0 in /databricks/python3/lib/python3.11/site-packages (from ray[default]) (1.0.8)\nRequirement already satisfied: packaging in /databricks/python3/lib/python3.11/site-packages (from ray[default]) (23.2)\nRequirement already satisfied: protobuf>=3.20.3 in /databricks/python3/lib/python3.11/site-packages (from ray[default]) (4.24.1)\nRequirement already satisfied: pyyaml in /databricks/python3/lib/python3.11/site-packages (from ray[default]) (6.0)\nRequirement already satisfied: requests in /databricks/python3/lib/python3.11/site-packages (from ray[default]) (2.31.0)\nRequirement already satisfied: aiohttp>=3.7 in /databricks/python3/lib/python3.11/site-packages (from ray[default]) (3.8.5)\nRequirement already satisfied: aiohttp_cors in /databricks/python3/lib/python3.11/site-packages (from ray[default]) (0.7.0)\nRequirement already satisfied: colorful in /databricks/python3/lib/python3.11/site-packages (from ray[default]) (0.5.6)\nRequirement already satisfied: py-spy>=0.2.0 in /databricks/python3/lib/python3.11/site-packages (from ray[default]) (0.3.14)\nRequirement already satisfied: grpcio>=1.42.0 in /databricks/python3/lib/python3.11/site-packages (from ray[default]) (1.60.0)\nRequirement already satisfied: opencensus in /databricks/python3/lib/python3.11/site-packages (from ray[default]) (0.11.4)\nCollecting opentelemetry-sdk>=1.30.0 (from ray[default])\n  Obtaining dependency information for opentelemetry-sdk>=1.30.0 from https://files.pythonhosted.org/packages/9f/62/9f4ad6a54126fb00f7ed4bb5034964c6e4f00fcd5a905e115bd22707e20d/opentelemetry_sdk-1.37.0-py3-none-any.whl.metadata\n  Downloading opentelemetry_sdk-1.37.0-py3-none-any.whl.metadata (1.5 kB)\nCollecting opentelemetry-exporter-prometheus (from ray[default])\n  Obtaining dependency information for opentelemetry-exporter-prometheus from https://files.pythonhosted.org/packages/a6/e3/50e9cdc5a52c2ab19585dd69e668ec9fee0343fafc4bffa919ca79230a4f/opentelemetry_exporter_prometheus-0.58b0-py3-none-any.whl.metadata\n  Downloading opentelemetry_exporter_prometheus-0.58b0-py3-none-any.whl.metadata (2.1 kB)\nCollecting opentelemetry-proto (from ray[default])\n  Obtaining dependency information for opentelemetry-proto from https://files.pythonhosted.org/packages/c4/25/f89ea66c59bd7687e218361826c969443c4fa15dfe89733f3bf1e2a9e971/opentelemetry_proto-1.37.0-py3-none-any.whl.metadata\n  Downloading opentelemetry_proto-1.37.0-py3-none-any.whl.metadata (2.3 kB)\nRequirement already satisfied: pydantic!=2.0.*,!=2.1.*,!=2.2.*,!=2.3.*,!=2.4.*,<3 in /databricks/python3/lib/python3.11/site-packages (from ray[default]) (1.10.6)\nRequirement already satisfied: prometheus_client>=0.7.1 in /databricks/python3/lib/python3.11/site-packages (from ray[default]) (0.14.1)\nRequirement already satisfied: smart_open in /databricks/python3/lib/python3.11/site-packages (from ray[default]) (5.2.1)\nRequirement already satisfied: virtualenv!=20.21.1,>=20.0.24 in /usr/local/lib/python3.11/dist-packages (from ray[default]) (20.24.2)\nRequirement already satisfied: attrs>=17.3.0 in /databricks/python3/lib/python3.11/site-packages (from aiohttp>=3.7->ray[default]) (22.1.0)\nRequirement already satisfied: charset-normalizer<4.0,>=2.0 in /databricks/python3/lib/python3.11/site-packages (from aiohttp>=3.7->ray[default]) (2.0.4)\nRequirement already satisfied: multidict<7.0,>=4.5 in /databricks/python3/lib/python3.11/site-packages (from aiohttp>=3.7->ray[default]) (6.0.2)\nRequirement already satisfied: async-timeout<5.0,>=4.0.0a3 in /databricks/python3/lib/python3.11/site-packages (from aiohttp>=3.7->ray[default]) (4.0.2)\nRequirement already satisfied: yarl<2.0,>=1.0 in /databricks/python3/lib/python3.11/site-packages (from aiohttp>=3.7->ray[default]) (1.8.1)\nRequirement already satisfied: frozenlist>=1.1.1 in /databricks/python3/lib/python3.11/site-packages (from aiohttp>=3.7->ray[default]) (1.3.3)\nRequirement already satisfied: aiosignal>=1.1.2 in /databricks/python3/lib/python3.11/site-packages (from aiohttp>=3.7->ray[default]) (1.2.0)\nCollecting opentelemetry-api==1.37.0 (from opentelemetry-sdk>=1.30.0->ray[default])\n  Obtaining dependency information for opentelemetry-api==1.37.0 from https://files.pythonhosted.org/packages/91/48/28ed9e55dcf2f453128df738210a980e09f4e468a456fa3c763dbc8be70a/opentelemetry_api-1.37.0-py3-none-any.whl.metadata\n  Downloading opentelemetry_api-1.37.0-py3-none-any.whl.metadata (1.5 kB)\nCollecting opentelemetry-semantic-conventions==0.58b0 (from opentelemetry-sdk>=1.30.0->ray[default])\n  Obtaining dependency information for opentelemetry-semantic-conventions==0.58b0 from https://files.pythonhosted.org/packages/07/90/68152b7465f50285d3ce2481b3aec2f82822e3f52e5152eeeaf516bab841/opentelemetry_semantic_conventions-0.58b0-py3-none-any.whl.metadata\n  Downloading opentelemetry_semantic_conventions-0.58b0-py3-none-any.whl.metadata (2.4 kB)\nRequirement already satisfied: typing-extensions>=4.5.0 in /databricks/python3/lib/python3.11/site-packages (from opentelemetry-sdk>=1.30.0->ray[default]) (4.10.0)\nRequirement already satisfied: importlib-metadata<8.8.0,>=6.0 in /databricks/python3/lib/python3.11/site-packages (from opentelemetry-api==1.37.0->opentelemetry-sdk>=1.30.0->ray[default]) (6.0.0)\nRequirement already satisfied: distlib<1,>=0.3.7 in /usr/local/lib/python3.11/dist-packages (from virtualenv!=20.21.1,>=20.0.24->ray[default]) (0.3.8)\nRequirement already satisfied: platformdirs<4,>=3.9.1 in /databricks/python3/lib/python3.11/site-packages (from virtualenv!=20.21.1,>=20.0.24->ray[default]) (3.10.0)\nRequirement already satisfied: pyrsistent!=0.17.0,!=0.17.1,!=0.17.2,>=0.14.0 in /databricks/python3/lib/python3.11/site-packages (from jsonschema->ray[default]) (0.18.0)\nRequirement already satisfied: opencensus-context>=0.1.3 in /databricks/python3/lib/python3.11/site-packages (from opencensus->ray[default]) (0.1.3)\nRequirement already satisfied: six~=1.16 in /usr/lib/python3/dist-packages (from opencensus->ray[default]) (1.16.0)\nRequirement already satisfied: google-api-core<3.0.0,>=1.0.0 in /databricks/python3/lib/python3.11/site-packages (from opencensus->ray[default]) (2.18.0)\nCollecting protobuf>=3.20.3 (from ray[default])\n  Obtaining dependency information for protobuf>=3.20.3 from https://files.pythonhosted.org/packages/5c/f6/88d77011b605ef979aace37b7703e4eefad066f7e84d935e5a696515c2dd/protobuf-6.32.1-cp39-abi3-manylinux2014_x86_64.whl.metadata\n  Downloading protobuf-6.32.1-cp39-abi3-manylinux2014_x86_64.whl.metadata (593 bytes)\nRequirement already satisfied: idna<4,>=2.5 in /databricks/python3/lib/python3.11/site-packages (from requests->ray[default]) (3.4)\nRequirement already satisfied: urllib3<3,>=1.21.1 in /databricks/python3/lib/python3.11/site-packages (from requests->ray[default]) (1.26.16)\nRequirement already satisfied: certifi>=2017.4.17 in /databricks/python3/lib/python3.11/site-packages (from requests->ray[default]) (2023.7.22)\nRequirement already satisfied: googleapis-common-protos<2.0.dev0,>=1.56.2 in /databricks/python3/lib/python3.11/site-packages (from google-api-core<3.0.0,>=1.0.0->opencensus->ray[default]) (1.63.0)\nINFO: pip is looking at multiple versions of google-api-core to determine which version is compatible with other requirements. This could take a while.\nCollecting google-api-core<3.0.0,>=1.0.0 (from opencensus->ray[default])\n  Obtaining dependency information for google-api-core<3.0.0,>=1.0.0 from https://files.pythonhosted.org/packages/14/4b/ead00905132820b623732b175d66354e9d3e69fcf2a5dcdab780664e7896/google_api_core-2.25.1-py3-none-any.whl.metadata\n  Downloading google_api_core-2.25.1-py3-none-any.whl.metadata (3.0 kB)\nRequirement already satisfied: proto-plus<2.0.0,>=1.22.3 in /databricks/python3/lib/python3.11/site-packages (from google-api-core<3.0.0,>=1.0.0->opencensus->ray[default]) (1.24.0)\nRequirement already satisfied: google-auth<3.0.0,>=2.14.1 in /databricks/python3/lib/python3.11/site-packages (from google-api-core<3.0.0,>=1.0.0->opencensus->ray[default]) (2.21.0)\nRequirement already satisfied: cachetools<6.0,>=2.0.0 in /databricks/python3/lib/python3.11/site-packages (from google-auth<3.0.0,>=2.14.1->google-api-core<3.0.0,>=1.0.0->opencensus->ray[default]) (5.4.0)\nRequirement already satisfied: pyasn1-modules>=0.2.1 in /databricks/python3/lib/python3.11/site-packages (from google-auth<3.0.0,>=2.14.1->google-api-core<3.0.0,>=1.0.0->opencensus->ray[default]) (0.2.8)\nRequirement already satisfied: rsa<5,>=3.1.4 in /databricks/python3/lib/python3.11/site-packages (from google-auth<3.0.0,>=2.14.1->google-api-core<3.0.0,>=1.0.0->opencensus->ray[default]) (4.9)\nINFO: pip is looking at multiple versions of googleapis-common-protos to determine which version is compatible with other requirements. This could take a while.\nCollecting googleapis-common-protos<2.0.0,>=1.56.2 (from google-api-core<3.0.0,>=1.0.0->opencensus->ray[default])\n  Obtaining dependency information for googleapis-common-protos<2.0.0,>=1.56.2 from https://files.pythonhosted.org/packages/86/f1/62a193f0227cf15a920390abe675f386dec35f7ae3ffe6da582d3ade42c7/googleapis_common_protos-1.70.0-py3-none-any.whl.metadata\n  Downloading googleapis_common_protos-1.70.0-py3-none-any.whl.metadata (9.3 kB)\nRequirement already satisfied: zipp>=0.5 in /databricks/python3/lib/python3.11/site-packages (from importlib-metadata<8.8.0,>=6.0->opentelemetry-api==1.37.0->opentelemetry-sdk>=1.30.0->ray[default]) (3.11.0)\nCollecting protobuf>=3.20.3 (from ray[default])\n  Obtaining dependency information for protobuf>=3.20.3 from https://files.pythonhosted.org/packages/85/e4/07c80521879c2d15f321465ac24c70efe2381378c00bf5e56a0f4fbac8cd/protobuf-5.29.5-cp38-abi3-manylinux2014_x86_64.whl.metadata\n  Downloading protobuf-5.29.5-cp38-abi3-manylinux2014_x86_64.whl.metadata (592 bytes)\nRequirement already satisfied: pyasn1<0.5.0,>=0.4.6 in /databricks/python3/lib/python3.11/site-packages (from pyasn1-modules>=0.2.1->google-auth<3.0.0,>=2.14.1->google-api-core<3.0.0,>=1.0.0->opencensus->ray[default]) (0.4.8)\nDownloading opentelemetry_sdk-1.37.0-py3-none-any.whl (131 kB)\n\u001B[?25l   \u001B[90m━━━━━━━━━━━━━━━━━━━━━━━━━━━━━━━━━━━━━━━━\u001B[0m \u001B[32m0.0/131.9 kB\u001B[0m \u001B[31m?\u001B[0m eta \u001B[36m-:--:--\u001B[0m\n\u001B[2K   \u001B[90m━━━━━━━━━━━━━━━━━━━━━━━━━━━━━━━━━━━━━━━━\u001B[0m \u001B[32m131.9/131.9 kB\u001B[0m \u001B[31m8.2 MB/s\u001B[0m eta \u001B[36m0:00:00\u001B[0m\n\u001B[?25hDownloading opentelemetry_api-1.37.0-py3-none-any.whl (65 kB)\n\u001B[?25l   \u001B[90m━━━━━━━━━━━━━━━━━━━━━━━━━━━━━━━━━━━━━━━━\u001B[0m \u001B[32m0.0/65.7 kB\u001B[0m \u001B[31m?\u001B[0m eta \u001B[36m-:--:--\u001B[0m\n\u001B[2K   \u001B[90m━━━━━━━━━━━━━━━━━━━━━━━━━━━━━━━━━━━━━━━━\u001B[0m \u001B[32m65.7/65.7 kB\u001B[0m \u001B[31m11.6 MB/s\u001B[0m eta \u001B[36m0:00:00\u001B[0m\n\u001B[?25hDownloading opentelemetry_semantic_conventions-0.58b0-py3-none-any.whl (207 kB)\n\u001B[?25l   \u001B[90m━━━━━━━━━━━━━━━━━━━━━━━━━━━━━━━━━━━━━━━━\u001B[0m \u001B[32m0.0/208.0 kB\u001B[0m \u001B[31m?\u001B[0m eta \u001B[36m-:--:--\u001B[0m\n\u001B[2K   \u001B[90m━━━━━━━━━━━━━━━━━━━━━━━━━━━━━━━━━━━━━━━━\u001B[0m \u001B[32m208.0/208.0 kB\u001B[0m \u001B[31m15.2 MB/s\u001B[0m eta \u001B[36m0:00:00\u001B[0m\n\u001B[?25hDownloading opentelemetry_exporter_prometheus-0.58b0-py3-none-any.whl (13 kB)\nDownloading opentelemetry_proto-1.37.0-py3-none-any.whl (72 kB)\n\u001B[?25l   \u001B[90m━━━━━━━━━━━━━━━━━━━━━━━━━━━━━━━━━━━━━━━━\u001B[0m \u001B[32m0.0/72.5 kB\u001B[0m \u001B[31m?\u001B[0m eta \u001B[36m-:--:--\u001B[0m\n\u001B[2K   \u001B[90m━━━━━━━━━━━━━━━━━━━━━━━━━━━━━━━━━━━━━━━━\u001B[0m \u001B[32m72.5/72.5 kB\u001B[0m \u001B[31m12.0 MB/s\u001B[0m eta \u001B[36m0:00:00\u001B[0m\n\u001B[?25hDownloading ray-2.49.2-cp311-cp311-manylinux2014_x86_64.whl (70.1 MB)\n\u001B[?25l   \u001B[90m━━━━━━━━━━━━━━━━━━━━━━━━━━━━━━━━━━━━━━━━\u001B[0m \u001B[32m0.0/70.1 MB\u001B[0m \u001B[31m?\u001B[0m eta \u001B[36m-:--:--\u001B[0m\n\u001B[2K   \u001B[91m━━━\u001B[0m\u001B[90m╺\u001B[0m\u001B[90m━━━━━━━━━━━━━━━━━━━━━━━━━━━━━━━━━━━━\u001B[0m \u001B[32m6.1/70.1 MB\u001B[0m \u001B[31m183.6 MB/s\u001B[0m eta \u001B[36m0:00:01\u001B[0m\n\u001B[2K   \u001B[91m━━━━━━━\u001B[0m\u001B[91m╸\u001B[0m\u001B[90m━━━━━━━━━━━━━━━━━━━━━━━━━━━━━━━━\u001B[0m \u001B[32m13.5/70.1 MB\u001B[0m \u001B[31m214.1 MB/s\u001B[0m eta \u001B[36m0:00:01\u001B[0m\n\u001B[2K   \u001B[91m━━━━━━━━━━━\u001B[0m\u001B[91m╸\u001B[0m\u001B[90m━━━━━━━━━━━━━━━━━━━━━━━━━━━━\u001B[0m \u001B[32m20.8/70.1 MB\u001B[0m \u001B[31m207.7 MB/s\u001B[0m eta \u001B[36m0:00:01\u001B[0m\n\u001B[2K   \u001B[91m━━━━━━━━━━━━━━━━\u001B[0m\u001B[90m╺\u001B[0m\u001B[90m━━━━━━━━━━━━━━━━━━━━━━━\u001B[0m \u001B[32m28.6/70.1 MB\u001B[0m \u001B[31m229.1 MB/s\u001B[0m eta \u001B[36m0:00:01\u001B[0m\n\u001B[2K   \u001B[91m━━━━━━━━━━━━━━━━━━━\u001B[0m\u001B[90m╺\u001B[0m\u001B[90m━━━━━━━━━━━━━━━━━━━━\u001B[0m \u001B[32m33.5/70.1 MB\u001B[0m \u001B[31m199.3 MB/s\u001B[0m eta \u001B[36m0:00:01\u001B[0m\n\u001B[2K   \u001B[91m━━━━━━━━━━━━━━━━━━━━━━\u001B[0m\u001B[91m╸\u001B[0m\u001B[90m━━━━━━━━━━━━━━━━━\u001B[0m \u001B[32m40.1/70.1 MB\u001B[0m \u001B[31m180.7 MB/s\u001B[0m eta \u001B[36m0:00:01\u001B[0m\n\u001B[2K   \u001B[91m━━━━━━━━━━━━━━━━━━━━━━━━━━━\u001B[0m\u001B[90m╺\u001B[0m\u001B[90m━━━━━━━━━━━━\u001B[0m \u001B[32m48.0/70.1 MB\u001B[0m \u001B[31m230.5 MB/s\u001B[0m eta \u001B[36m0:00:01\u001B[0m\n\u001B[2K   \u001B[91m━━━━━━━━━━━━━━━━━━━━━━━━━━━━━━━\u001B[0m\u001B[91m╸\u001B[0m\u001B[90m━━━━━━━━\u001B[0m \u001B[32m55.8/70.1 MB\u001B[0m \u001B[31m227.4 MB/s\u001B[0m eta \u001B[36m0:00:01\u001B[0m\n\u001B[2K   \u001B[91m━━━━━━━━━━━━━━━━━━━━━━━━━━━━━━━━━━━━\u001B[0m\u001B[90m╺\u001B[0m\u001B[90m━━━\u001B[0m \u001B[32m63.7/70.1 MB\u001B[0m \u001B[31m228.7 MB/s\u001B[0m eta \u001B[36m0:00:01\u001B[0m\n\u001B[2K   \u001B[91m━━━━━━━━━━━━━━━━━━━━━━━━━━━━━━━━━━━━━━━\u001B[0m\u001B[91m╸\u001B[0m \u001B[32m70.1/70.1 MB\u001B[0m \u001B[31m232.0 MB/s\u001B[0m eta \u001B[36m0:00:01\u001B[0m\n\u001B[2K   \u001B[91m━━━━━━━━━━━━━━━━━━━━━━━━━━━━━━━━━━━━━━━\u001B[0m\u001B[91m╸\u001B[0m \u001B[32m70.1/70.1 MB\u001B[0m \u001B[31m232.0 MB/s\u001B[0m eta \u001B[36m0:00:01\u001B[0m\n\u001B[2K   \u001B[91m━━━━━━━━━━━━━━━━━━━━━━━━━━━━━━━━━━━━━━━\u001B[0m\u001B[91m╸\u001B[0m \u001B[32m70.1/70.1 MB\u001B[0m \u001B[31m232.0 MB/s\u001B[0m eta \u001B[36m0:00:01\u001B[0m\n\u001B[2K   \u001B[91m━━━━━━━━━━━━━━━━━━━━━━━━━━━━━━━━━━━━━━━\u001B[0m\u001B[91m╸\u001B[0m \u001B[32m70.1/70.1 MB\u001B[0m \u001B[31m232.0 MB/s\u001B[0m eta \u001B[36m0:00:01\u001B[0m\n\u001B[2K   \u001B[91m━━━━━━━━━━━━━━━━━━━━━━━━━━━━━━━━━━━━━━━\u001B[0m\u001B[91m╸\u001B[0m \u001B[32m70.1/70.1 MB\u001B[0m \u001B[31m232.0 MB/s\u001B[0m eta \u001B[36m0:00:01\u001B[0m\n\u001B[2K   \u001B[91m━━━━━━━━━━━━━━━━━━━━━━━━━━━━━━━━━━━━━━━\u001B[0m\u001B[91m╸\u001B[0m \u001B[32m70.1/70.1 MB\u001B[0m \u001B[31m232.0 MB/s\u001B[0m eta \u001B[36m0:00:01\u001B[0m\n\u001B[2K   \u001B[90m━━━━━━━━━━━━━━━━━━━━━━━━━━━━━━━━━━━━━━━━\u001B[0m \u001B[32m70.1/70.1 MB\u001B[0m \u001B[31m35.8 MB/s\u001B[0m eta \u001B[36m0:00:00\u001B[0m\n\u001B[?25hDownloading google_api_core-2.25.1-py3-none-any.whl (160 kB)\n\u001B[?25l   \u001B[90m━━━━━━━━━━━━━━━━━━━━━━━━━━━━━━━━━━━━━━━━\u001B[0m \u001B[32m0.0/160.8 kB\u001B[0m \u001B[31m?\u001B[0m eta \u001B[36m-:--:--\u001B[0m\n\u001B[2K   \u001B[90m━━━━━━━━━━━━━━━━━━━━━━━━━━━━━━━━━━━━━━━━\u001B[0m \u001B[32m160.8/160.8 kB\u001B[0m \u001B[31m39.3 MB/s\u001B[0m eta \u001B[36m0:00:00\u001B[0m\n\u001B[?25hDownloading googleapis_common_protos-1.70.0-py3-none-any.whl (294 kB)\n\u001B[?25l   \u001B[90m━━━━━━━━━━━━━━━━━━━━━━━━━━━━━━━━━━━━━━━━\u001B[0m \u001B[32m0.0/294.5 kB\u001B[0m \u001B[31m?\u001B[0m eta \u001B[36m-:--:--\u001B[0m\n\u001B[2K   \u001B[90m━━━━━━━━━━━━━━━━━━━━━━━━━━━━━━━━━━━━━━━━\u001B[0m \u001B[32m294.5/294.5 kB\u001B[0m \u001B[31m58.1 MB/s\u001B[0m eta \u001B[36m0:00:00\u001B[0m\n\u001B[?25hDownloading protobuf-5.29.5-cp38-abi3-manylinux2014_x86_64.whl (319 kB)\n\u001B[?25l   \u001B[90m━━━━━━━━━━━━━━━━━━━━━━━━━━━━━━━━━━━━━━━━\u001B[0m \u001B[32m0.0/319.9 kB\u001B[0m \u001B[31m?\u001B[0m eta \u001B[36m-:--:--\u001B[0m\n\u001B[2K   \u001B[90m━━━━━━━━━━━━━━━━━━━━━━━━━━━━━━━━━━━━━━━━\u001B[0m \u001B[32m319.9/319.9 kB\u001B[0m \u001B[31m62.3 MB/s\u001B[0m eta \u001B[36m0:00:00\u001B[0m\n\u001B[?25hInstalling collected packages: protobuf, ray, opentelemetry-proto, opentelemetry-api, googleapis-common-protos, opentelemetry-semantic-conventions, google-api-core, opentelemetry-sdk, opentelemetry-exporter-prometheus\n  Attempting uninstall: protobuf\n    Found existing installation: protobuf 4.24.1\n    Not uninstalling protobuf at /databricks/python3/lib/python3.11/site-packages, outside environment /local_disk0/.ephemeral_nfs/envs/pythonEnv-c52da93d-a0d5-4830-a566-51c222311932\n    Can't uninstall 'protobuf'. No files were found to uninstall.\n  Attempting uninstall: ray\n    Found existing installation: ray 2.37.0\n    Not uninstalling ray at /databricks/python3/lib/python3.11/site-packages, outside environment /local_disk0/.ephemeral_nfs/envs/pythonEnv-c52da93d-a0d5-4830-a566-51c222311932\n    Can't uninstall 'ray'. No files were found to uninstall.\n  Attempting uninstall: opentelemetry-api\n    Found existing installation: opentelemetry-api 1.25.0\n    Not uninstalling opentelemetry-api at /databricks/python3/lib/python3.11/site-packages, outside environment /local_disk0/.ephemeral_nfs/envs/pythonEnv-c52da93d-a0d5-4830-a566-51c222311932\n    Can't uninstall 'opentelemetry-api'. No files were found to uninstall.\n  Attempting uninstall: googleapis-common-protos\n    Found existing installation: googleapis-common-protos 1.63.0\n    Not uninstalling googleapis-common-protos at /databricks/python3/lib/python3.11/site-packages, outside environment /local_disk0/.ephemeral_nfs/envs/pythonEnv-c52da93d-a0d5-4830-a566-51c222311932\n    Can't uninstall 'googleapis-common-protos'. No files were found to uninstall.\n  Attempting uninstall: opentelemetry-semantic-conventions\n    Found existing installation: opentelemetry-semantic-conventions 0.46b0\n    Not uninstalling opentelemetry-semantic-conventions at /databricks/python3/lib/python3.11/site-packages, outside environment /local_disk0/.ephemeral_nfs/envs/pythonEnv-c52da93d-a0d5-4830-a566-51c222311932\n    Can't uninstall 'opentelemetry-semantic-conventions'. No files were found to uninstall.\n  Attempting uninstall: google-api-core\n    Found existing installation: google-api-core 2.18.0\n    Not uninstalling google-api-core at /databricks/python3/lib/python3.11/site-packages, outside environment /local_disk0/.ephemeral_nfs/envs/pythonEnv-c52da93d-a0d5-4830-a566-51c222311932\n    Can't uninstall 'google-api-core'. No files were found to uninstall.\n  Attempting uninstall: opentelemetry-sdk\n    Found existing installation: opentelemetry-sdk 1.25.0\n    Not uninstalling opentelemetry-sdk at /databricks/python3/lib/python3.11/site-packages, outside environment /local_disk0/.ephemeral_nfs/envs/pythonEnv-c52da93d-a0d5-4830-a566-51c222311932\n    Can't uninstall 'opentelemetry-sdk'. No files were found to uninstall.\n\u001B[31mERROR: pip's dependency resolver does not currently take into account all the packages that are installed. This behaviour is the source of the following dependency conflicts.\ndatabricks-feature-engineering 0.8.0 requires protobuf<5,>=3.12.0, but you have protobuf 5.29.5 which is incompatible.\ntensorboard-plugin-profile 2.15.1 requires protobuf<5.0.0dev,>=3.19.6, but you have protobuf 5.29.5 which is incompatible.\ntensorflow 2.16.1 requires protobuf!=4.21.0,!=4.21.1,!=4.21.2,!=4.21.3,!=4.21.4,!=4.21.5,<5.0.0dev,>=3.20.3, but you have protobuf 5.29.5 which is incompatible.\u001B[0m\u001B[31m\n\u001B[0mSuccessfully installed google-api-core-2.25.1 googleapis-common-protos-1.70.0 opentelemetry-api-1.37.0 opentelemetry-exporter-prometheus-0.58b0 opentelemetry-proto-1.37.0 opentelemetry-sdk-1.37.0 opentelemetry-semantic-conventions-0.58b0 protobuf-5.29.5 ray-2.49.2\n\u001B[43mNote: you may need to restart the kernel using %restart_python or dbutils.library.restartPython() to use updated packages.\u001B[0m\n"
     ]
    }
   ],
   "source": [
    "%pip install -U \"ray[default]\"\n",
    "dbutils.library.restartPython()"
   ]
  },
  {
   "cell_type": "code",
   "execution_count": 0,
   "metadata": {
    "application/vnd.databricks.v1+cell": {
     "cellMetadata": {
      "byteLimit": 2048000,
      "rowLimit": 10000
     },
     "inputWidgets": {},
     "nuid": "a632715f-fc6c-46d6-8850-1096c8a16416",
     "showTitle": false,
     "tableResultSettingsMap": {},
     "title": ""
    }
   },
   "outputs": [
    {
     "output_type": "stream",
     "name": "stdout",
     "output_type": "stream",
     "text": [
      "Setting Grafana IFrame host to: https://dbc-dp-1444828305810485.cloud.databricks.com/driver-proxy/o/1444828305810485/0304-200350-iqaebq6s/3000\n"
     ]
    }
   ],
   "source": [
    "# Get Driver Proxy API ; uses same approach as Ray on Spark setup: https://github.com/ray-project/ray/blob/c11c8583cbebf62408204c0c75a6570cf56b37c9/python/ray/util/spark/databricks_hook.py#L62\n",
    "\n",
    "import os\n",
    "# Note: Include the protocol in the below URL; Do NOT include a trailing slash after the port\n",
    "grafana_port = 3000\n",
    "driverLocal = spark._jvm.com.databricks.backend.daemon.driver.DriverLocal\n",
    "commandContextTags = driverLocal.commandContext().get().toStringMap().apply(\"tags\")\n",
    "orgId = commandContextTags.apply(\"orgId\")\n",
    "clusterId = commandContextTags.apply(\"clusterId\")\n",
    "proxy_link = f\"/driver-proxy/o/{orgId}/{clusterId}/{grafana_port}\"\n",
    "proxy_url = f\"https://dbc-dp-{orgId}.cloud.databricks.com{proxy_link}\"\n",
    "\n",
    "# REQUIRED: the bash script needs these environment variables set to function properly\n",
    "print(f\"Setting Grafana IFrame host to: {proxy_url}\")\n",
    "os.environ[\"RAY_GRAFANA_IFRAME_HOST\"] = proxy_url\n",
    "os.environ[\"CLUSTER_ID\"] = clusterId"
   ]
  },
  {
   "cell_type": "code",
   "execution_count": 0,
   "metadata": {
    "application/vnd.databricks.v1+cell": {
     "cellMetadata": {
      "byteLimit": 2048000,
      "rowLimit": 10000
     },
     "inputWidgets": {},
     "nuid": "81313be1-ba0f-41c8-b321-69a9c2f19875",
     "showTitle": false,
     "tableResultSettingsMap": {},
     "title": ""
    }
   },
   "outputs": [
    {
     "output_type": "display_data",
     "data": {
      "text/html": [
       "<b style='background-color:Cyan;'>In each spark worker node, we recommend making the sum of 'spark_executor_memory + num_Ray_worker_nodes_per_spark_worker * (memory_worker_node + object_store_memory_worker_node)' to be less than 'spark_worker_physical_memory * 0.8', otherwise it might lead to spark worker physical memory exhaustion and Ray task OOM errors.<br></b>"
      ]
     },
     "metadata": {},
     "output_type": "display_data"
    },
    {
     "output_type": "stream",
     "name": "stderr",
     "output_type": "stream",
     "text": [
      "2025-09-23 18:16:24,471\tINFO cluster_init.py:569 -- Ray head hostname: 10.0.22.190, port: 9502, ray client server port: 10001.\n"
     ]
    },
    {
     "output_type": "display_data",
     "data": {
      "text/html": [
       "<b style='color:red;'>MLflow support is not correctly configured within Ray tasks.To enable MLflow integration, you need to set environmental variables DATABRICKS_HOST + DATABRICKS_TOKEN, or set environmental variables DATABRICKS_HOST + DATABRICKS_CLIENT_ID + DATABRICKS_CLIENT_SECRET before calling `ray.util.spark.setup_ray_cluster`, these variables are used to set up authentication with Databricks MLflow service. For details, you can refer to Databricks documentation at <a href='https://docs.databricks.com/en/dev-tools/auth/pat.html'>Databricks PAT auth</a> or <a href='https://docs.databricks.com/en/dev-tools/auth/oauth-m2m.html'>Databricks OAuth</a>.<br></b>"
      ]
     },
     "metadata": {},
     "output_type": "display_data"
    },
    {
     "output_type": "stream",
     "name": "stdout",
     "output_type": "stream",
     "text": [
      "2025-09-23 18:16:25,690\tWARNING node.py:1806 -- The object spilling config is specified from an unstable API - system config or environment variable. This is subject to change in the future. You can use the stable API - --object-spilling-directory in ray start or object_spilling_directory in ray.init() to specify the object spilling directory instead. If you need more advanced settings, please open a github issue with the Ray team.\n2025-09-23 18:16:25,689\tINFO usage_lib.py:473 -- Usage stats collection is enabled by default without user confirmation because this terminal is detected to be non-interactive. To disable this, add `--disable-usage-stats` to the command that starts the cluster, or run the following command: `ray disable-usage-stats` before starting the cluster. See https://docs.ray.io/en/master/cluster/usage-stats.html for more details.\n2025-09-23 18:16:25,689\tINFO scripts.py:913 -- \u001B[37mLocal node IP\u001B[39m: \u001B[1m10.0.22.190\u001B[22m\n2025-09-23 18:16:28,198\tSUCC scripts.py:949 -- \u001B[32m--------------------\u001B[39m\n2025-09-23 18:16:28,198\tSUCC scripts.py:950 -- \u001B[32mRay runtime started.\u001B[39m\n2025-09-23 18:16:28,198\tSUCC scripts.py:951 -- \u001B[32m--------------------\u001B[39m\n2025-09-23 18:16:28,198\tINFO scripts.py:953 -- \u001B[36mNext steps\u001B[39m\n2025-09-23 18:16:28,199\tINFO scripts.py:956 -- To add another node to this Ray cluster, run\n2025-09-23 18:16:28,199\tINFO scripts.py:959 -- \u001B[1m  ray start --address='10.0.22.190:9502'\u001B[22m\n2025-09-23 18:16:28,199\tINFO scripts.py:968 -- To connect to this Ray cluster:\n2025-09-23 18:16:28,199\tINFO scripts.py:970 -- \u001B[35mimport\u001B[39m\u001B[26m ray\n2025-09-23 18:16:28,199\tINFO scripts.py:971 -- ray\u001B[35m.\u001B[39m\u001B[26minit(_node_ip_address\u001B[35m=\u001B[39m\u001B[26m\u001B[33m'10.0.22.190'\u001B[39m\u001B[26m)\n2025-09-23 18:16:28,199\tINFO scripts.py:983 -- To submit a Ray job using the Ray Jobs CLI:\n2025-09-23 18:16:28,199\tINFO scripts.py:984 -- \u001B[1m  RAY_API_SERVER_ADDRESS='http://10.0.22.190:9999' ray job submit --working-dir . -- python my_script.py\u001B[22m\n2025-09-23 18:16:28,199\tINFO scripts.py:993 -- See https://docs.ray.io/en/latest/cluster/running-applications/job-submission/index.html \n2025-09-23 18:16:28,199\tINFO scripts.py:997 -- for more information on submitting Ray jobs to the Ray cluster.\n2025-09-23 18:16:28,199\tINFO scripts.py:1002 -- To terminate the Ray runtime, run\n2025-09-23 18:16:28,199\tINFO scripts.py:1003 -- \u001B[1m  ray stop\u001B[22m\n2025-09-23 18:16:28,199\tINFO scripts.py:1006 -- To view the status of the cluster, use\n2025-09-23 18:16:28,199\tINFO scripts.py:1007 --   \u001B[1mray status\u001B[22m\u001B[26m\n2025-09-23 18:16:28,200\tINFO scripts.py:1011 -- To monitor and debug Ray, view the dashboard at \n2025-09-23 18:16:28,200\tINFO scripts.py:1012 --   \u001B[1m10.0.22.190:9999\u001B[22m\u001B[26m\n2025-09-23 18:16:28,200\tINFO scripts.py:1019 -- \u001B[4mIf connection to the dashboard fails, check your firewall settings and network configuration.\u001B[24m\n2025-09-23 18:16:28,200\tINFO scripts.py:1123 -- \u001B[36m\u001B[1m--block\u001B[22m\u001B[39m\n2025-09-23 18:16:28,200\tINFO scripts.py:1124 -- This command will now block forever until terminated by a signal.\n2025-09-23 18:16:28,200\tINFO scripts.py:1127 -- Running subprocesses are monitored and a message will be printed if any of them terminate unexpectedly. Subprocesses exit with SIGTERM will be treated as graceful, thus NOT reported.\n"
     ]
    },
    {
     "output_type": "stream",
     "name": "stderr",
     "output_type": "stream",
     "text": [
      "2025-09-23 18:16:44,494\tINFO cluster_init.py:693 -- Ray head node started.\n2025-09-23 18:16:44,495\tINFO databricks_hook.py:116 -- The Ray cluster will keep running until you manually detach the Databricks notebook or call `ray.util.spark.shutdown_ray_cluster()`.\n2025-09-23 18:16:44,506\tINFO worker.py:1771 -- Connecting to existing Ray cluster at address: 10.0.22.190:9502...\n2025-09-23 18:16:44,523\tINFO worker.py:1942 -- Connected to Ray cluster. View the dashboard at \u001B[1m\u001B[32mhttp://10.0.22.190:9999 \u001B[39m\u001B[22m\n"
     ]
    },
    {
     "output_type": "stream",
     "name": "stdout",
     "output_type": "stream",
     "text": [
      "To monitor and debug Ray from Databricks, view the dashboard at \n https://dbc-dp-1444828305810485.cloud.databricks.com/driver-proxy/o/1444828305810485/0304-200350-iqaebq6s/9999/\n"
     ]
    },
    {
     "output_type": "display_data",
     "data": {
      "text/html": [
       "\n",
       "      <div style=\"margin-top: 16px;margin-bottom: 16px\">\n",
       "          <a href=\"/driver-proxy/o/1444828305810485/0304-200350-iqaebq6s/9999/\">\n",
       "              Open Ray Cluster Dashboard in a new tab\n",
       "          </a>\n",
       "      </div>\n",
       "    "
      ]
     },
     "metadata": {},
     "output_type": "display_data"
    },
    {
     "output_type": "stream",
     "name": "stderr",
     "output_type": "stream",
     "text": [
      "2025-09-23 18:16:48,637\tINFO cluster_init.py:168 -- Started 1 Ray worker nodes, meet the minimum number of Ray worker nodes required.\n2025-09-23 18:16:48,731\tINFO worker.py:1630 -- Using address 10.0.22.190:9502 set in the environment variable RAY_ADDRESS\n2025-09-23 18:16:48,733\tINFO worker.py:1771 -- Connecting to existing Ray cluster at address: 10.0.22.190:9502...\n2025-09-23 18:16:48,739\tINFO worker.py:1942 -- Connected to Ray cluster. View the dashboard at \u001B[1m\u001B[32mhttp://10.0.22.190:9999 \u001B[39m\u001B[22m\n"
     ]
    },
    {
     "output_type": "execute_result",
     "data": {
      "text/html": [
       "<div class=\"lm-Widget p-Widget lm-Panel p-Panel jp-Cell-outputWrapper\">\n",
       "    <div style=\"margin-left: 50px;display: flex;flex-direction: row;align-items: center\">\n",
       "        <div class=\"jp-RenderedHTMLCommon\" style=\"display: flex; flex-direction: row;\">\n",
       "  <svg viewBox=\"0 0 567 224\" fill=\"none\" xmlns=\"http://www.w3.org/2000/svg\" style=\"height: 3em;\">\n",
       "    <g clip-path=\"url(#clip0_4338_178347)\">\n",
       "        <path d=\"M341.29 165.561H355.29L330.13 129.051C345.63 123.991 354.21 112.051 354.21 94.2307C354.21 71.3707 338.72 58.1807 311.88 58.1807H271V165.561H283.27V131.661H311.8C314.25 131.661 316.71 131.501 319.01 131.351L341.25 165.561H341.29ZM283.29 119.851V70.0007H311.82C331.3 70.0007 342.34 78.2907 342.34 94.5507C342.34 111.271 331.34 119.861 311.82 119.861L283.29 119.851ZM451.4 138.411L463.4 165.561H476.74L428.74 58.1807H416L367.83 165.561H380.83L392.83 138.411H451.4ZM446.19 126.601H398L422 72.1407L446.24 126.601H446.19ZM526.11 128.741L566.91 58.1807H554.35L519.99 114.181L485.17 58.1807H472.44L514.01 129.181V165.541H526.13V128.741H526.11Z\" fill=\"var(--jp-ui-font-color0)\"/>\n",
       "        <path d=\"M82.35 104.44C84.0187 97.8827 87.8248 92.0678 93.1671 87.9146C98.5094 83.7614 105.083 81.5067 111.85 81.5067C118.617 81.5067 125.191 83.7614 130.533 87.9146C135.875 92.0678 139.681 97.8827 141.35 104.44H163.75C164.476 101.562 165.622 98.8057 167.15 96.2605L127.45 56.5605C121.071 60.3522 113.526 61.6823 106.235 60.3005C98.9443 58.9187 92.4094 54.9203 87.8602 49.0574C83.3109 43.1946 81.0609 35.8714 81.5332 28.4656C82.0056 21.0599 85.1679 14.0819 90.4252 8.8446C95.6824 3.60726 102.672 0.471508 110.08 0.0272655C117.487 -0.416977 124.802 1.86091 130.647 6.4324C136.493 11.0039 140.467 17.5539 141.821 24.8501C143.175 32.1463 141.816 39.6859 138 46.0505L177.69 85.7505C182.31 82.9877 187.58 81.4995 192.962 81.4375C198.345 81.3755 203.648 82.742 208.33 85.3976C213.012 88.0532 216.907 91.9029 219.616 96.5544C222.326 101.206 223.753 106.492 223.753 111.875C223.753 117.258 222.326 122.545 219.616 127.197C216.907 131.848 213.012 135.698 208.33 138.353C203.648 141.009 198.345 142.375 192.962 142.313C187.58 142.251 182.31 140.763 177.69 138L138 177.7C141.808 184.071 143.155 191.614 141.79 198.91C140.424 206.205 136.44 212.75 130.585 217.313C124.731 221.875 117.412 224.141 110.004 223.683C102.596 223.226 95.6103 220.077 90.3621 214.828C85.1139 209.58 81.9647 202.595 81.5072 195.187C81.0497 187.779 83.3154 180.459 87.878 174.605C92.4405 168.751 98.9853 164.766 106.281 163.401C113.576 162.035 121.119 163.383 127.49 167.19L167.19 127.49C165.664 124.941 164.518 122.182 163.79 119.3H141.39C139.721 125.858 135.915 131.673 130.573 135.826C125.231 139.98 118.657 142.234 111.89 142.234C105.123 142.234 98.5494 139.98 93.2071 135.826C87.8648 131.673 84.0587 125.858 82.39 119.3H60C58.1878 126.495 53.8086 132.78 47.6863 136.971C41.5641 141.163 34.1211 142.972 26.7579 142.059C19.3947 141.146 12.6191 137.574 7.70605 132.014C2.79302 126.454 0.0813599 119.29 0.0813599 111.87C0.0813599 104.451 2.79302 97.2871 7.70605 91.7272C12.6191 86.1673 19.3947 82.5947 26.7579 81.6817C34.1211 80.7686 41.5641 82.5781 47.6863 86.7696C53.8086 90.9611 58.1878 97.2456 60 104.44H82.35ZM100.86 204.32C103.407 206.868 106.759 208.453 110.345 208.806C113.93 209.159 117.527 208.258 120.522 206.256C123.517 204.254 125.725 201.276 126.771 197.828C127.816 194.38 127.633 190.677 126.253 187.349C124.874 184.021 122.383 181.274 119.205 179.577C116.027 177.88 112.359 177.337 108.826 178.042C105.293 178.746 102.113 180.654 99.8291 183.44C97.5451 186.226 96.2979 189.718 96.3 193.32C96.2985 195.364 96.7006 197.388 97.4831 199.275C98.2656 201.163 99.4132 202.877 100.86 204.32ZM204.32 122.88C206.868 120.333 208.453 116.981 208.806 113.396C209.159 109.811 208.258 106.214 206.256 103.219C204.254 100.223 201.275 98.0151 197.827 96.97C194.38 95.9249 190.676 96.1077 187.348 97.4873C184.02 98.8669 181.274 101.358 179.577 104.536C177.879 107.714 177.337 111.382 178.041 114.915C178.746 118.448 180.653 121.627 183.439 123.911C186.226 126.195 189.717 127.443 193.32 127.44C195.364 127.443 197.388 127.042 199.275 126.259C201.163 125.476 202.878 124.328 204.32 122.88ZM122.88 19.4205C120.333 16.8729 116.981 15.2876 113.395 14.9347C109.81 14.5817 106.213 15.483 103.218 17.4849C100.223 19.4868 98.0146 22.4654 96.9696 25.9131C95.9245 29.3608 96.1073 33.0642 97.4869 36.3922C98.8665 39.7202 101.358 42.4668 104.535 44.1639C107.713 45.861 111.381 46.4036 114.914 45.6992C118.447 44.9949 121.627 43.0871 123.911 40.301C126.195 37.515 127.442 34.0231 127.44 30.4205C127.44 28.3772 127.038 26.3539 126.255 24.4664C125.473 22.5788 124.326 20.8642 122.88 19.4205ZM19.42 100.86C16.8725 103.408 15.2872 106.76 14.9342 110.345C14.5813 113.93 15.4826 117.527 17.4844 120.522C19.4863 123.518 22.4649 125.726 25.9127 126.771C29.3604 127.816 33.0638 127.633 36.3918 126.254C39.7198 124.874 42.4664 122.383 44.1635 119.205C45.8606 116.027 46.4032 112.359 45.6988 108.826C44.9944 105.293 43.0866 102.114 40.3006 99.8296C37.5145 97.5455 34.0227 96.2983 30.42 96.3005C26.2938 96.3018 22.337 97.9421 19.42 100.86ZM100.86 100.86C98.3125 103.408 96.7272 106.76 96.3742 110.345C96.0213 113.93 96.9226 117.527 98.9244 120.522C100.926 123.518 103.905 125.726 107.353 126.771C110.8 127.816 114.504 127.633 117.832 126.254C121.16 124.874 123.906 122.383 125.604 119.205C127.301 116.027 127.843 112.359 127.139 108.826C126.434 105.293 124.527 102.114 121.741 99.8296C118.955 97.5455 115.463 96.2983 111.86 96.3005C109.817 96.299 107.793 96.701 105.905 97.4835C104.018 98.2661 102.303 99.4136 100.86 100.86Z\" fill=\"#00AEEF\"/>\n",
       "    </g>\n",
       "    <defs>\n",
       "        <clipPath id=\"clip0_4338_178347\">\n",
       "            <rect width=\"566.93\" height=\"223.75\" fill=\"white\"/>\n",
       "        </clipPath>\n",
       "    </defs>\n",
       "  </svg>\n",
       "</div>\n",
       "\n",
       "        <table class=\"jp-RenderedHTMLCommon\" style=\"border-collapse: collapse;color: var(--jp-ui-font-color1);font-size: var(--jp-ui-font-size1);\">\n",
       "    <tr>\n",
       "        <td style=\"text-align: left\"><b>Python version:</b></td>\n",
       "        <td style=\"text-align: left\"><b>3.11.11</b></td>\n",
       "    </tr>\n",
       "    <tr>\n",
       "        <td style=\"text-align: left\"><b>Ray version:</b></td>\n",
       "        <td style=\"text-align: left\"><b>2.49.2</b></td>\n",
       "    </tr>\n",
       "    <tr>\n",
       "    <td style=\"text-align: left\"><b>Dashboard:</b></td>\n",
       "    <td style=\"text-align: left\"><b><a href=\"http://10.0.22.190:9999\" target=\"_blank\">http://10.0.22.190:9999</a></b></td>\n",
       "</tr>\n",
       "\n",
       "</table>\n",
       "\n",
       "    </div>\n",
       "</div>\n"
      ],
      "text/plain": [
       "RayContext(dashboard_url='10.0.22.190:9999', python_version='3.11.11', ray_version='2.49.2', ray_commit='479fa716904109d9df4b56b98ca3c3350e1ec13c')"
      ]
     },
     "execution_count": 2,
     "metadata": {},
     "output_type": "execute_result"
    }
   ],
   "source": [
    "# Standard Global Ray cluster setup script - see docs: https://docs.databricks.com/aws/en/machine-learning/ray/ray-create\n",
    "import ray\n",
    "from ray.util.spark import setup_global_ray_cluster\n",
    "setup_global_ray_cluster(\n",
    "    min_worker_nodes=1,\n",
    "    max_worker_nodes=6,\n",
    "    # collect_log_to_path=\"/Volumes/your_catalog/your_schema/ray_logs\",\n",
    "    is_blocking=False, \n",
    "    head_node_options={\n",
    "            \"dashboard_port\":9999\n",
    "            }\n",
    "     )\n",
    "\n",
    "ray.init(ignore_reinit_error=True)"
   ]
  },
  {
   "cell_type": "markdown",
   "metadata": {
    "application/vnd.databricks.v1+cell": {
     "cellMetadata": {},
     "inputWidgets": {},
     "nuid": "d0f3f76b-36cc-4283-bb81-e2f9078a7354",
     "showTitle": false,
     "tableResultSettingsMap": {},
     "title": ""
    }
   },
   "source": [
    "## Step 2: Run script to initialize Prometheus+Grafana on running Ray cluster\n",
    "\n",
    "Using this baseline script, advanced users can adapt to their unique monitoring requirements"
   ]
  },
  {
   "cell_type": "code",
   "execution_count": 0,
   "metadata": {
    "application/vnd.databricks.v1+cell": {
     "cellMetadata": {
      "byteLimit": 2048000,
      "rowLimit": 10000
     },
     "inputWidgets": {},
     "nuid": "dc003a24-d749-4d1a-81fb-88ebae1f5afe",
     "showTitle": false,
     "tableResultSettingsMap": {},
     "title": ""
    }
   },
   "outputs": [
    {
     "output_type": "stream",
     "name": "stdout",
     "output_type": "stream",
     "text": [
      "[INFO] Using Cloud=AWS\n[INFO] Using Org ID=1444828305810485\n[INFO] Using Cluster Id=0304-200350-iqaebq6s\n[INFO] Using Data Plane URL=dbc-dp-1444828305810485.cloud.databricks.com\n[INFO] Using ray_grafana_iframe_host=https://dbc-dp-1444828305810485.cloud.databricks.com/driver-proxy/o/1444828305810485/0304-200350-iqaebq6s/3000\n[INFO] Setup completed! Check logs in /local_disk0/tmp/ for details.\n"
     ]
    },
    {
     "output_type": "stream",
     "name": "stderr",
     "output_type": "stream",
     "text": [
      "./setup_monitoring.sh: line 119: RAY_DASHBOARD_URL: unbound variable\n"
     ]
    }
   ],
   "source": [
    "%sh ./setup_monitoring.sh"
   ]
  },
  {
   "cell_type": "markdown",
   "metadata": {
    "application/vnd.databricks.v1+cell": {
     "cellMetadata": {},
     "inputWidgets": {},
     "nuid": "57ed54f0-5140-42df-a26e-754b99c08b9b",
     "showTitle": false,
     "tableResultSettingsMap": {},
     "title": ""
    }
   },
   "source": [
    "Go to Ray Dashboard --> Metrics tab to see Metrics in real-time as Ray tasks run\n",
    "\n",
    "The cell below has a smoke test Ray task to confirm metrics are being populated"
   ]
  },
  {
   "cell_type": "code",
   "execution_count": 0,
   "metadata": {
    "application/vnd.databricks.v1+cell": {
     "cellMetadata": {
      "byteLimit": 2048000,
      "rowLimit": 10000
     },
     "inputWidgets": {},
     "nuid": "f3b8a940-3be2-4fee-8bf2-cc3296300bc4",
     "showTitle": false,
     "tableResultSettingsMap": {},
     "title": ""
    }
   },
   "outputs": [
    {
     "output_type": "stream",
     "name": "stdout",
     "output_type": "stream",
     "text": [
      "1\n[1, 1, 1, 1, 1, 1, 1, 1, 1, 1]\n[2, 3, 4, 5, 6]\n"
     ]
    }
   ],
   "source": [
    "# Arbitrary Ray \"Work\" to test metrics render\n",
    "import ray\n",
    "\n",
    "@ray.remote\n",
    "class Counter:\n",
    "    def __init__(self):\n",
    "        self.value = 0\n",
    "\n",
    "    def increment(self):\n",
    "        self.value += 1\n",
    "        return self.value\n",
    "\n",
    "    def get_counter(self):\n",
    "        return self.value\n",
    "\n",
    "# Create an actor from this class.\n",
    "counter = Counter.remote()\n",
    "\n",
    "\n",
    "obj_ref = counter.increment.remote()\n",
    "print(ray.get(obj_ref))\n",
    "\n",
    "# Create ten Counter actors.\n",
    "counters = [Counter.remote() for _ in range(10)]\n",
    "\n",
    "# Increment each Counter once and get the results. These tasks all happen in\n",
    "# parallel.\n",
    "results = ray.get([c.increment.remote() for c in counters])\n",
    "print(results)\n",
    "\n",
    "# Increment the first Counter five times. These tasks are executed serially\n",
    "# and share state.\n",
    "results = ray.get([counters[0].increment.remote() for _ in range(5)])\n",
    "print(results)"
   ]
  }
 ],
 "metadata": {
  "application/vnd.databricks.v1+notebook": {
   "computePreferences": null,
   "dashboards": [],
   "environmentMetadata": {
    "base_environment": "",
    "environment_version": "3"
   },
   "inputWidgetPreferences": null,
   "language": "python",
   "notebookMetadata": {
    "mostRecentlyExecutedCommandWithImplicitDF": {
     "commandId": 2964497923591420,
     "dataframes": [
      "_sqldf"
     ]
    },
    "pythonIndentUnit": 2
   },
   "notebookName": "prometheus-metrics-with-ray-dashboard",
   "widgets": {}
  },
  "language_info": {
   "name": "python"
  }
 },
 "nbformat": 4,
 "nbformat_minor": 0
}