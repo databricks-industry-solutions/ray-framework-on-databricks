{
 "cells": [
  {
   "cell_type": "markdown",
   "metadata": {
    "application/vnd.databricks.v1+cell": {
     "cellMetadata": {},
     "inputWidgets": {},
     "nuid": "bd3d27b8-231a-4efd-a04f-e32f8a01b0bd",
     "showTitle": false,
     "tableResultSettingsMap": {},
     "title": ""
    }
   },
   "source": [
    "## 0. Image data setup\n",
    "1. Create Volume (see section below)\n",
    "2. Manually download kaggle fashion image [dataset](https://www.kaggle.com/datasets/vikashrajluhaniwal/fashion-images/data)\n",
    "3. Upload the zipped data set in UC volumes (e.g.`/Volumes/amine_elhelou/ray_gtm_examples/fashion-images`)"
   ]
  },
  {
   "cell_type": "markdown",
   "metadata": {
    "application/vnd.databricks.v1+cell": {
     "cellMetadata": {},
     "inputWidgets": {},
     "nuid": "5311626d-f9f5-48d0-93be-fc080e6b9b0e",
     "showTitle": false,
     "tableResultSettingsMap": {},
     "title": ""
    }
   },
   "source": [
    "## 1. Create Volume"
   ]
  },
  {
   "cell_type": "code",
   "execution_count": 0,
   "metadata": {
    "application/vnd.databricks.v1+cell": {
     "cellMetadata": {
      "byteLimit": 2048000,
      "rowLimit": 10000
     },
     "inputWidgets": {},
     "nuid": "e97ee910-759d-4d54-8229-f2f365cf3235",
     "showTitle": false,
     "tableResultSettingsMap": {},
     "title": ""
    }
   },
   "outputs": [],
   "source": [
    "catalog = \"amine_elhelou\" # Change This/Point to an existing catalog\n",
    "schema = \"ray_gtm_examples\" # Point to an existing schema\n",
    "volume = \"fashion-images\""
   ]
  },
  {
   "cell_type": "code",
   "execution_count": 0,
   "metadata": {
    "application/vnd.databricks.v1+cell": {
     "cellMetadata": {
      "byteLimit": 2048000,
      "rowLimit": 10000
     },
     "inputWidgets": {},
     "nuid": "622dc1e4-3cc7-4f8b-86d9-e5cd1d91b3d2",
     "showTitle": false,
     "tableResultSettingsMap": {},
     "title": ""
    }
   },
   "outputs": [],
   "source": [
    "_ = spark.sql(f\"CREATE CATALOG IF NOT EXISTS {catalog}\")\n",
    "_ = spark.sql(f\"CREATE SCHEMA IF NOT EXISTS {catalog}.{schema}\")\n",
    "_ = spark.sql(f\"CREATE VOLUME IF NOT EXISTS {catalog}.{schema}.`{volume}`\")"
   ]
  },
  {
   "cell_type": "markdown",
   "metadata": {
    "application/vnd.databricks.v1+cell": {
     "cellMetadata": {},
     "inputWidgets": {},
     "nuid": "e5264305-efa9-480b-b93f-532794ae6964",
     "showTitle": false,
     "tableResultSettingsMap": {},
     "title": ""
    }
   },
   "source": [
    "## 2. Download data & Move to UC Volume"
   ]
  },
  {
   "cell_type": "code",
   "execution_count": 0,
   "metadata": {
    "application/vnd.databricks.v1+cell": {
     "cellMetadata": {
      "byteLimit": 2048000,
      "rowLimit": 10000
     },
     "inputWidgets": {},
     "nuid": "2c468bcf-b493-4b34-8558-3d4456c9daee",
     "showTitle": true,
     "tableResultSettingsMap": {},
     "title": "Download & Unzip"
    }
   },
   "outputs": [],
   "source": [
    "%sh\n",
    "curl -L -o ./fashion-images.zip \\\n",
    "  https://www.kaggle.com/api/v1/datasets/download/vikashrajluhaniwal/fashion-images\n",
    "unzip fashion-images.zip"
   ]
  },
  {
   "cell_type": "code",
   "execution_count": 0,
   "metadata": {
    "application/vnd.databricks.v1+cell": {
     "cellMetadata": {
      "byteLimit": 2048000,
      "rowLimit": 10000
     },
     "inputWidgets": {},
     "nuid": "2572de14-b6a9-4f41-b409-bc628063c000",
     "showTitle": false,
     "tableResultSettingsMap": {},
     "title": ""
    }
   },
   "outputs": [],
   "source": [
    "dbutils.fs.mkdirs(f\"/Volumes/{catalog}/{schema}/{volume}/data\")"
   ]
  },
  {
   "cell_type": "code",
   "execution_count": 0,
   "metadata": {
    "application/vnd.databricks.v1+cell": {
     "cellMetadata": {
      "byteLimit": 2048000,
      "rowLimit": 10000
     },
     "inputWidgets": {},
     "nuid": "a49ed4cf-f5dd-4724-a2e6-dee58c973e8e",
     "showTitle": true,
     "tableResultSettingsMap": {},
     "title": "CHANGE THIS"
    }
   },
   "outputs": [],
   "source": [
    "%sh\n",
    "cp -R ./data/* /Volumes/amine_elhelou/ray_gtm_examples/fashion-images/data/"
   ]
  },
  {
   "cell_type": "code",
   "execution_count": 0,
   "metadata": {
    "application/vnd.databricks.v1+cell": {
     "cellMetadata": {
      "byteLimit": 2048000,
      "rowLimit": 10000
     },
     "inputWidgets": {},
     "nuid": "9c1b85ee-ff1c-4b57-bdd2-85b30edbd6da",
     "showTitle": true,
     "tableResultSettingsMap": {},
     "title": "Copy to UC and remove from local temp/dir"
    }
   },
   "outputs": [],
   "source": [
    "%sh\n",
    "rm -rf data\n",
    "rm fashion-images.zip"
   ]
  },
  {
   "cell_type": "code",
   "execution_count": 0,
   "metadata": {
    "application/vnd.databricks.v1+cell": {
     "cellMetadata": {
      "byteLimit": 2048000,
      "rowLimit": 10000
     },
     "inputWidgets": {},
     "nuid": "5998081a-2578-4aa9-92e3-b56da8220175",
     "showTitle": true,
     "tableResultSettingsMap": {},
     "title": "Sanity-Check that files have been copied"
    }
   },
   "outputs": [],
   "source": [
    "volume_path = f\"/Volumes/{catalog}/{schema}/{volume}/data/\"\n",
    "folder_paths = dbutils.fs.ls(volume_path)\n",
    "display(folder_paths)"
   ]
  },
  {
   "cell_type": "code",
   "execution_count": 0,
   "metadata": {
    "application/vnd.databricks.v1+cell": {
     "cellMetadata": {},
     "inputWidgets": {},
     "nuid": "f61306d7-7e93-4139-82ee-f3025a324d8c",
     "showTitle": false,
     "tableResultSettingsMap": {},
     "title": ""
    }
   },
   "outputs": [],
   "source": []
  }
 ],
 "metadata": {
  "application/vnd.databricks.v1+notebook": {
   "computePreferences": null,
   "dashboards": [],
   "environmentMetadata": {
    "base_environment": "",
    "environment_version": "2"
   },
   "language": "python",
   "notebookMetadata": {
    "mostRecentlyExecutedCommandWithImplicitDF": {
     "commandId": 1315887243025106,
     "dataframes": [
      "_sqldf"
     ]
    },
    "pythonIndentUnit": 2
   },
   "notebookName": "00_Download_Data",
   "widgets": {}
  },
  "language_info": {
   "name": "python"
  }
 },
 "nbformat": 4,
 "nbformat_minor": 0
}
